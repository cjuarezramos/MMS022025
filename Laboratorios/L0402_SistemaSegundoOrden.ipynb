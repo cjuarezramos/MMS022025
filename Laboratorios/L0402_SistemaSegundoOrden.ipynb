{
 "cells": [
  {
   "cell_type": "markdown",
   "id": "c7d49cfe",
   "metadata": {},
   "source": [
    "Características de Sistemas de Segundo Orden\n",
    "==========================================\n",
    "En sistemas de segundo orden son aquellos que pueden describirse mediante una ecuación diferencial de segundo orden o una función de transferencia con un polinomio cuadrático en el denominador. Estos sistemas exhiben comportamientos dinámicos más complejos que los sistemas de primer orden, incluyendo oscilaciones y amortiguamiento.\n",
    "Algunas características clave de los sistemas de segundo orden incluyen:\n",
    "1. **Frecuencia natural ($\\omega_n$)**: Es la frecuencia a la cual el sistema oscilaría si no hubiera amortiguamiento. Se mide en radianes por segundo (rad/s).\n",
    "2. **Factor de amortiguamiento ($\\zeta$)**: Es una medida de cuánto se reduce la oscilación en el sistema. Los valores comunes son:\n",
    "   - $\\zeta = 0$: Sistema no amortiguado (oscila indefinidamente).\n",
    "   - $0 < \\zeta < 1$: Sistema subamortiguado (oscila con decaimiento).\n",
    "   - $\\zeta = 1$: Sistema críticamente amortiguado (regresa al equilibrio sin oscilar).\n",
    "   - $\\zeta > 1$: Sistema sobreamortiguado (regresa al equilibrio lentamente sin oscilar).\n",
    "3. **Estabilidad**: Un sistema de segundo orden es estable si todos los polos de su función de transferencia tienen partes reales negativas.\n",
    "4. **Función de transferencia típica**: La función de transferencia de un sistema de segundo orden se puede expresar como:\n",
    "$G(s) = \\frac{K \\omega_n^2}{s^2 + 2\\zeta\\omega_n s + \\omega_n^2}$, donde $K$ es la ganancia del sistema."
   ]
  },
  {
   "cell_type": "markdown",
   "id": "207d624c",
   "metadata": {},
   "source": [
    "Polos y ceros de Sistemas de Segundo Orden\n",
    "---------------------------------------\n",
    "En sistemas de segundo orden, los polos y ceros juegan un papel crucial en la determinación de la dinámica del sistema. Los polos son los valores de $s$ que hacen que el denominador de la función de transferencia sea cero, mientras que los ceros son los valores de $s$ que hacen que el numerador sea cero.\n",
    "Para un sistema de segundo orden típico con la función de transferencia:\n",
    "$$G(s) = \\frac{\\omega_n^2}{s^2 + 2\\zeta\\omega_n s + \\omega_n^2}$$\n",
    "los polos se pueden encontrar resolviendo la ecuación cuadrática en el denominador, mientras que los ceros se encuentran resolviendo la ecuación en el numerador. En este caso, el sistema no tiene ceros.\n",
    "\n",
    "Los polos de un sistema de segundo orden determinan la estabilidad y la respuesta temporal del sistema. La ubicación de los polos en el plano complejo afecta la rapidez con la que el sistema responde a las entradas y si la respuesta es oscilatoria o no.\n",
    "Sean los polos del sistema, que se pueden expresar como:\n",
    "$$s_{1,2} = -\\zeta \\omega_n \\pm \\omega_n \\sqrt{\\zeta^2 - 1}$$\n",
    "La naturaleza de estos polos depende del valor del factor de amortiguamiento $\\zeta$:\n",
    "- Si $\\zeta > 1$, los polos son reales y negativos, lo que indica un sistema sobreamortiguado.\n",
    "- Si $\\zeta = 1$, los polos son reales e iguales, lo que indica un sistema críticamente amortiguado.\n",
    "- Si $0 < \\zeta < 1$, los polos son complejos conjugados con partes reales negativas, lo que indica un sistema subamortiguado.\n",
    "- Si $\\zeta = 0$, los polos son puramente imaginarios, lo que indica un sistema no amortiguado.\n",
    "La estabilidad del sistema se determina observando la parte real de los polos. Un sistema es estable si todos los polos tienen partes reales negativas.\n",
    "\n",
    "Estabilidad de Sistemas de Segundo Orden\n",
    "---------------------------------------\n",
    "La estabilidad de un sistema de segundo orden está determinada por la ubicación de sus polos en el plano complejo. Los polos son los valores de $s$ que hacen que el denominador de la función de transferencia sea cero. Por ejemplo:\n",
    "- Si los polos tienen partes reales negativas, el sistema es estable.   \n",
    "- Si los polos tienen partes reales positivas, el sistema es inestable.\n",
    "- Si los polos tienen partes reales iguales a cero, el sistema es marginalmente estable.\n",
    "En un sistema de segundo orden, la estabilidad también está influenciada por el factor de amortiguamiento ($\\zeta$):\n",
    "- Para $\\zeta > 0$, el sistema es estable.\n",
    "- Para $\\zeta = 0$, el sistema es marginalmente estable.\n",
    "- Para $\\zeta < 0$, el sistema es inestable.\n"
   ]
  },
  {
   "cell_type": "markdown",
   "id": "5f411383",
   "metadata": {},
   "source": [
    "Ejemplo de aplicación: Control de posición de un motor DC: El servomotor\n",
    "---------------------------------------\n",
    "Consideremos un motor DC de corriente continua que se utiliza para controlar la posición de un eje. La función de transferencia del motor puede modelarse de la siguiente manera:\n",
    "$$G(s) = \\frac{\\theta(s)}{T(s)} = \\frac{1}{s(Js + B)}$$\n",
    "donde:\n",
    "- $\\theta(s)$ es la posición angular del eje en el dominio de Laplace.\n",
    "- $T(s)$ es el torque aplicado al motor.\n",
    "- $J$ es el momento de inercia del rotor.\n",
    "- $B$ es el coeficiente de fricción viscosa.\n",
    "\n",
    "Dónde la función de transferencia del sistema en lazo cerrado es:\n",
    "$$G_{cl}(s) = \\frac{K}{Js^2 + Bs + K}$$\n",
    "donde $K$ es la ganancia del controlador proporcional.\n",
    "\n",
    "Analizando los polos del sistema en lazo cerrado, podemos determinar la estabilidad y el comportamiento dinámico del motor. Ajustando los parámetros $J$, $B$ y $K$, podemos diseñar el sistema para que tenga un factor de amortiguamiento adecuado ($\\zeta$) y una frecuencia natural ($\\omega_n$) que cumplan con los requisitos de rendimiento deseados.\n",
    "\n",
    "Podemos reescribir la función de transferencia en la forma estándar de un sistema de segundo orden:\n",
    "$$G_{cl}(s) = \\frac{\\omega_n^2}{s^2 + 2\\zeta\\omega_n s + \\omega_n^2}$$\n",
    "donde:\n",
    "- $\\omega_n = \\sqrt{\\frac{K}{J}}$ es la frecuencia natural del sistema.\n",
    "- $\\zeta = \\frac{B}{2\\sqrt{JK}}$ es el factor de amortiguamiento."
   ]
  },
  {
   "cell_type": "markdown",
   "id": "6075d826",
   "metadata": {},
   "source": [
    "CASO 1. Sobreamortiguado ($\\zeta >1$)\n",
    "------------------------------\n",
    "Utilice los siguientes parámetros:\n",
    "- $J = 0.01 \\, \\text{kg·m}^2$\n",
    "- $B = 0.2 \\, \\text{N·m·s}/rad$\n",
    "- $K = 1 \\, \\text{N·m}/rad$"
   ]
  },
  {
   "cell_type": "code",
   "execution_count": null,
   "id": "5338c909",
   "metadata": {},
   "outputs": [],
   "source": [
    "# Escriba las líneas de código para importar bibliotecas necesarias: numpy, matplotlib.pyplot, control\n",
    "# importar solo solve_ivp de scipy.integrate\n",
    "import numpy as np\n",
    "import matplotlib.pyplot as plt\n",
    "import control as ct \n",
    "from scipy.integrate import solve_ivp"
   ]
  },
  {
   "cell_type": "code",
   "execution_count": null,
   "id": "e49228db",
   "metadata": {},
   "outputs": [],
   "source": [
    "# Función para resolver por método numérico de euler\n",
    "def f_euler(f, tspan, x0, h):\n",
    "    class Solution:\n",
    "        pass\n",
    "    sol = Solution()\n",
    "    t0, tf = tspan\n",
    "    N = int((tf - t0) / h) + 1\n",
    "    t = np.linspace(t0, tf, N)\n",
    "    x = np.zeros((len(x0), N))\n",
    "    x[:, 0] = x0\n",
    "    for i in range(1, N):\n",
    "        x[:, i] = x[:, i-1] + h * f(t[i-1], x[:, i-1])\n",
    "    sol.t = t\n",
    "    sol.y = x\n",
    "    return sol\n",
    "def entrada_escalon(t):\n",
    "    if t >= 0:\n",
    "        return 1\n",
    "    else:\n",
    "        return 0\n",
    "# Definir función a resolver\n",
    "# f(t,x)=dx/dt Para casos de orden superior a 1, x es un vector\n",
    "def f(t,x):\n",
    "    # La salida debe ser arreglo numpy\n",
    "    return np.array() # sustituya como la información necesaria."
   ]
  },
  {
   "cell_type": "code",
   "execution_count": null,
   "id": "96855a85",
   "metadata": {},
   "outputs": [],
   "source": [
    "# Parámetros del sistema\n",
    "wn = 1.0 #sqrt(K/J) # frecuencia natural\n",
    "zeta = 0.5 #B/(2*J*wn) # factor de amortiguamiento\n",
    "# Definir la función de transferencia del sistema\n",
    "num = [wn**2]\n",
    "den = [1, 2*zeta*wn, wn**2]\n",
    "sys = ct.tf(num, den)\n",
    "# Definir el intervalo de tiempo y condiciones iniciales\n",
    "tspan = (0, 10)\n",
    "y0 = [0, 0]  # condiciones iniciales: [posición, velocidad] \n",
    "h = 0.01  # tamaño de paso para el método de Euler\n",
    "# Resolver el sistema usando solve_ivp\n",
    "sol_ivp = solve_ivp(f, tspan, y0, t_eval=np.arange(tspan[0], tspan[1], h))\n",
    "# Resolver el sistema usando el método de Euler\n",
    "sol_euler = f_euler(f, tspan, y0, h)\n",
    "# Graficar los resultados\n",
    "plt.figure()\n",
    "plt.plot(sol_ivp.t, sol_ivp.y[0], label='solve_ivp: posición')\n",
    "plt.plot(sol_euler.t, sol_euler.y[0], label='Euler: posición', linestyle='dashed')\n",
    "plt.xlabel('Tiempo [s]')\n",
    "plt.ylabel('Posición [m]')\n",
    "plt.title('Respuesta del sistema')\n",
    "plt.legend()\n",
    "plt.grid()\n",
    "plt.show()"
   ]
  },
  {
   "cell_type": "code",
   "execution_count": null,
   "id": "36aa8266",
   "metadata": {},
   "outputs": [],
   "source": [
    "# Función de transferencia de lazo abierto\n",
    "K = 1\n",
    "B = 0.1\n",
    "J = 0.01\n",
    "num_ol = [K]\n",
    "den_ol = [J, B, 0]\n",
    "\n",
    "# Polos y ceros del sistema de lazo abierto"
   ]
  },
  {
   "cell_type": "code",
   "execution_count": null,
   "id": "b8a68649",
   "metadata": {},
   "outputs": [],
   "source": [
    "# respuesta al escalón del sistema de lazo abierto"
   ]
  },
  {
   "cell_type": "markdown",
   "id": "0bbe47a3",
   "metadata": {},
   "source": [
    "Características en el tiempo de unsistema de segundo orden:\n",
    "- Respuesta al escalón\n",
    "- Tiempo de subida ($t_r$) = Tiempo que tarda la respuesta en alcanzar el 100% del valor final por primera vez.\n",
    "- Tiempo de asentamiento ($t_s$) = Tiempo que tarda la respuesta en permanecer dentro del 2% del valor final.\n",
    "- Sobreelongación ($M_p$) = La cantidad máxima que la respuesta excede el valor final, expresada como un porcentaje del valor final.\n",
    "- Tiempo de pico ($t_p$) = Tiempo que tarda la respuesta en alcanzar el sobreelongación máxima.\n",
    "\n",
    "$$t_r = \\frac{1}{\\omega_d} \\tan^{-1}\\left(\\frac{\\omega_d}{-\\zeta \\omega_n}\\right)$$\n",
    "$$t_s = \\frac{4}{\\zeta \\omega_n}$$\n",
    "$$t_p = \\frac{\\pi}{\\omega_d}$$\n",
    "$$M_p = e^{\\left(-\\frac{\\pi \\zeta}{\\sqrt{1-\\zeta^2}}\\right)} \\times 100\\%$$\n",
    "\n"
   ]
  },
  {
   "cell_type": "code",
   "execution_count": null,
   "id": "4acc6555",
   "metadata": {},
   "outputs": [],
   "source": [
    "# Lugar de las raíces del sistema"
   ]
  }
 ],
 "metadata": {
  "kernelspec": {
   "display_name": "base",
   "language": "python",
   "name": "python3"
  },
  "language_info": {
   "codemirror_mode": {
    "name": "ipython",
    "version": 3
   },
   "file_extension": ".py",
   "mimetype": "text/x-python",
   "name": "python",
   "nbconvert_exporter": "python",
   "pygments_lexer": "ipython3",
   "version": "3.13.5"
  }
 },
 "nbformat": 4,
 "nbformat_minor": 5
}
