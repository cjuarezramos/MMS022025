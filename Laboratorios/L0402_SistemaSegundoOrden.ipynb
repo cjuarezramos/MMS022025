{
 "cells": [
  {
   "cell_type": "markdown",
   "id": "c7d49cfe",
   "metadata": {},
   "source": [
    "Características de Sistemas de Segundo Orden\n",
    "==========================================\n",
    "En sistemas de segundo orden son aquellos que pueden describirse mediante una ecuación diferencial de segundo orden o una función de transferencia con un polinomio cuadrático en el denominador. Estos sistemas exhiben comportamientos dinámicos más complejos que los sistemas de primer orden, incluyendo oscilaciones y amortiguamiento.\n",
    "Algunas características clave de los sistemas de segundo orden incluyen:\n",
    "1. **Frecuencia natural ($\\omega_n$)**: Es la frecuencia a la cual el sistema oscilaría si no hubiera amortiguamiento. Se mide en radianes por segundo (rad/s).\n",
    "2. **Factor de amortiguamiento ($\\zeta$)**: Es una medida de cuánto se reduce la oscilación en el sistema. Los valores comunes son:\n",
    "   - $\\zeta = 0$: Sistema no amortiguado (oscila indefinidamente).\n",
    "   - $0 < \\zeta < 1$: Sistema subamortiguado (oscila con decaimiento).\n",
    "   - $\\zeta = 1$: Sistema críticamente amortiguado (regresa al equilibrio sin oscilar).\n",
    "   - $\\zeta > 1$: Sistema sobreamortiguado (regresa al equilibrio lentamente sin oscilar).\n",
    "3. **Estabilidad**: Un sistema de segundo orden es estable si todos los polos de su función de transferencia tienen partes reales negativas.\n",
    "4. **Función de transferencia típica**: La función de transferencia de un sistema de segundo orden se puede expresar como:\n",
    "$G(s) = \\frac{K \\omega_n^2}{s^2 + 2\\zeta\\omega_n s + \\omega_n^2}$, donde $K$ es la ganancia del sistema."
   ]
  },
  {
   "cell_type": "markdown",
   "id": "207d624c",
   "metadata": {},
   "source": [
    "Polos y ceros de Sistemas de Segundo Orden\n",
    "---------------------------------------\n",
    "En sistemas de segundo orden, los polos y ceros juegan un papel crucial en la determinación de la dinámica del sistema. Los polos son los valores de $s$ que hacen que el denominador de la función de transferencia sea cero, mientras que los ceros son los valores de $s$ que hacen que el numerador sea cero.\n",
    "Para un sistema de segundo orden típico con la función de transferencia:\n",
    "$$G(s) = \\frac{K \\omega_n^2}{s^2 + 2\\zeta\\omega_n s + \\omega_n^2}$$\n",
    "los polos se pueden encontrar resolviendo la ecuación cuadrática en el denominador, mientras que los ceros se encuentran resolviendo la ecuación en el numerador. En este caso, el sistema no tiene ceros (a menos que $K$ sea cero).\n",
    "\n",
    "Los polos de un sistema de segundo orden determinan la estabilidad y la respuesta temporal del sistema. La ubicación de los polos en el plano complejo afecta la rapidez con la que el sistema responde a las entradas y si la respuesta es oscilatoria o no.\n",
    "Sean los polos del sistema, que se pueden expresar como:\n",
    "$$s_{1,2} = -\\zeta \\omega_n \\pm \\omega_n \\sqrt{\\zeta^2 - 1}$$\n",
    "La naturaleza de estos polos depende del valor del factor de amortiguamiento $\\zeta$:\n",
    "- Si $\\zeta > 1$, los polos son reales y negativos, lo que indica un sistema sobreamortiguado.\n",
    "- Si $\\zeta = 1$, los polos son reales e iguales, lo que indica un sistema críticamente amortiguado.\n",
    "- Si $0 < \\zeta < 1$, los polos son complejos conjugados con partes reales negativas, lo que indica un sistema subamortiguado.\n",
    "- Si $\\zeta = 0$, los polos son puramente imaginarios, lo que indica un sistema no amortiguado.\n",
    "La estabilidad del sistema se determina observando la parte real de los polos. Un sistema es estable si todos los polos tienen partes reales negativas.\n",
    "\n",
    "Por ejemplo:\n",
    "- Si los polos tienen partes reales negativas, el sistema es estable.   \n",
    "- Si los polos tienen partes reales positivas, el sistema es inestable.\n",
    "- Si los polos son complejos conjugados con partes reales negativas, el sistema es subamortiguado y exhibe oscilaciones.\n",
    "- Si los polos son reales y negativos, el sistema es sobreamortiguado o críticamente amortiguado, dependiendo de si son iguales o diferentes.\n"
   ]
  }
 ],
 "metadata": {
  "language_info": {
   "name": "python"
  }
 },
 "nbformat": 4,
 "nbformat_minor": 5
}
