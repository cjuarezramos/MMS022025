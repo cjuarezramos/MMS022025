{
 "cells": [
  {
   "cell_type": "markdown",
   "id": "633ff4b3",
   "metadata": {},
   "source": [
    "# Numpy\n",
    "En ingeniería, Numpy es una biblioteca fundamental para el cálculo numérico y el análisis de datos.  \n",
    "Es un módulo para trabajar con arreglos de números y realizar operaciones matemáticas de manera eficiente.\n",
    "\n",
    "Algunas características clave de Numpy son:  \n",
    "- Soporte para arreglos multidimensionales (ndarray)  \n",
    "- Funciones matemáticas y estadísticas  \n",
    "- Herramientas para integrar C/C++ y Fortran  \n",
    "- Funciones de álgebra lineal, transformadas de Fourier y generación de números aleatorios\n"
   ]
  },
  {
   "cell_type": "code",
   "execution_count": null,
   "id": "11ddcc15",
   "metadata": {},
   "outputs": [],
   "source": [
    "# Uso de Numpy\n",
    "import numpy as np\n",
    "# Crear un arreglo de 1D\n",
    "arreglo1 = np.array([1, 2, 3])\n",
    "print(arreglo1)\n",
    "# Crear un arreglo de 2D\n",
    "arreglo2 = np.array([[1, 2, 3], [4, 5, 6]])\n",
    "print(arreglo2)"
   ]
  },
  {
   "cell_type": "code",
   "execution_count": null,
   "id": "d717d1cd",
   "metadata": {},
   "outputs": [],
   "source": [
    "# Obtener datos de un arreglo\n",
    "print(arreglo1[0])  # Acceder al primer elemento de arreglo1\n",
    "print(arreglo2[0, 1])  # Acceder al segundo elemento de la primera fila de arreglo2"
   ]
  },
  {
   "cell_type": "code",
   "execution_count": null,
   "id": "394d712a",
   "metadata": {},
   "outputs": [],
   "source": [
    "print(arreglo1)\n",
    "# Modificar un elemento de un arreglo\n",
    "arreglo1[0] = 10\n",
    "print(arreglo1)  # Ahora el primer elemento es 10"
   ]
  },
  {
   "cell_type": "code",
   "execution_count": null,
   "id": "1a5579c2",
   "metadata": {},
   "outputs": [],
   "source": [
    "x = np.arange(0,3.1,0.1)\n",
    "print(x)\n",
    "y = x**2\n",
    "print(y)"
   ]
  },
  {
   "cell_type": "code",
   "execution_count": null,
   "id": "15aeaf58",
   "metadata": {},
   "outputs": [],
   "source": [
    "#Gràficos\n",
    "import matplotlib.pyplot as plt\n",
    "# recuerde as pseudodimo como graf solo es para ahorrar código\n",
    "plt.plot(x, y)\n",
    "plt.show()"
   ]
  },
  {
   "cell_type": "code",
   "execution_count": null,
   "id": "a0000bb2",
   "metadata": {},
   "outputs": [],
   "source": []
  },
  {
   "cell_type": "code",
   "execution_count": null,
   "id": "f65f4e53",
   "metadata": {},
   "outputs": [],
   "source": [
    "import matplotlib.pyplot as plt\n",
    "# Graficar velocidad vs tiempo\n",
    "a = 9.81 # aceleración en m/s^2\n",
    "t = np.arange(0, 10, 0.1) # tiempo en segundos\n",
    "vo = 0 # velocidad inicial en m/s\n",
    "v = vo + a * t # velocidad en m/s\n",
    "plt.plot(t, v, label='Velocidad', color='blue') # graficar velocidad\n",
    "plt.title('Velocidad vs Tiempo')\n",
    "plt.xlabel('Tiempo (s)')\n",
    "plt.ylabel('Velocidad (m/s)')\n",
    "plt.grid() # agregar cuadrícula\n",
    "plt.legend() # mostrar leyenda\n",
    "plt.show() # mostrar la gráfica\n"
   ]
  }
 ],
 "metadata": {
  "kernelspec": {
   "display_name": "base",
   "language": "python",
   "name": "python3"
  },
  "language_info": {
   "codemirror_mode": {
    "name": "ipython",
    "version": 3
   },
   "file_extension": ".py",
   "mimetype": "text/x-python",
   "name": "python",
   "nbconvert_exporter": "python",
   "pygments_lexer": "ipython3",
   "version": "3.12.7"
  }
 },
 "nbformat": 4,
 "nbformat_minor": 5
}
