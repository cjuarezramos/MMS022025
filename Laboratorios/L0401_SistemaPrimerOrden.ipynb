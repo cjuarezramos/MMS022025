{
 "cells": [
  {
   "cell_type": "markdown",
   "id": "33a7202e",
   "metadata": {},
   "source": [
    "Características de Sistemas de Primer Orden\n",
    "=================================\n",
    "Los sistemas de primer orden son aquellos que pueden describirse mediante una ecuación diferencial de primer orden. Estos sistemas tienen varias características distintivas:\n",
    "1. **Respuesta Exponencial**: La respuesta de un sistema de primer orden a una entrada escalón es típicamente una función exponencial que se aproxima a un valor final con el tiempo.\n",
    "2. **Constante de Tiempo (τ)**: La constante de tiempo es un parámetro clave que determina la velocidad de respuesta del sistema. Un valor más pequeño de τ indica una respuesta más rápida.\n",
    "3. **Estabilidad**: Los sistemas de primer orden son inherentemente estables si la constante de tiempo es positiva.\n",
    "4. **Función de Transferencia**: La función de transferencia de un sistema de primer orden generalmente tiene la forma $\\frac{K}{\\tau s + 1}$, donde K es la ganancia del sistema.\n",
    "5. **Simplicidad**: Los sistemas de primer orden son más simples de analizar y diseñar en comparación con sistemas de orden superior, lo que los hace ideales para aplicaciones básicas de control y modelado.\n",
    "Estos aspectos hacen que los sistemas de primer orden sean fundamentales en el estudio de la teoría de control y en diversas aplicaciones de ingeniería."
   ]
  },
  {
   "cell_type": "markdown",
   "id": "857a8bc4",
   "metadata": {
    "vscode": {
     "languageId": "plaintext"
    }
   },
   "source": [
    "Polos y ceros de la Función de Transferencia\n",
    "---------------------------------------\n",
    "En un sistema de primer orden, la función de transferencia típicamente tiene la forma:\n",
    "$$G(s) = \\frac{K}{\\tau s + 1}$$\n",
    "Donde:\n",
    "- $K$ es la ganancia del sistema.\n",
    "- $\\tau$ es la constante de tiempo del sistema.\n",
    "El polo de la función de transferencia se encuentra en:\n",
    "$$s = -\\frac{1}{\\tau}$$\n",
    "No hay ceros en un sistema de primer orden típico. La ubicación del polo en el semiplano izquierdo indica que el sistema es estable.\n"
   ]
  },
  {
   "cell_type": "markdown",
   "id": "501d0c4a",
   "metadata": {},
   "source": [
    "Ejemplo de aplicación: Control de velocidad de un motor DC\n",
    "----------------------------------------------  \n",
    "Consideremos un motor de corriente continua (DC) cuya dinámica puede modelarse como un sistema de primer orden. La función de transferencia que relaciona la velocidad angular del motor ($\\omega$) con el torque de entrada ($T$) es:\n",
    "$$G(s) = \\frac{\\omega(s)}{T(s)} = \\frac{1}{Js + B}$$\n",
    "Donde:\n",
    "- $J$ es el momento de inercia del rotor.\n",
    "- $B$ es el coeficiente de fricción viscosa.\n",
    "Este sistema tiene un polo en:\n",
    "$$s = -\\frac{B}{J}$$\n",
    "La constante de tiempo del sistema es:\n",
    "$$\\tau = \\frac{J}{B}$$\n",
    "La respuesta del motor a un cambio en el torque de entrada será una función exponencial que se aproxima a la velocidad final con una constante de tiempo $\\tau$. Este modelo es útil para diseñar controladores que regulen la velocidad del motor de manera eficiente.\n"
   ]
  },
  {
   "cell_type": "markdown",
   "id": "fecb06ec",
   "metadata": {},
   "source": [
    "Ejercicio 1. Analizar el sistema de control de velocidad de un motor DC\n",
    "------------------------------------------------\n",
    "Caso 1: Suponga que un motor DC tiene un momento de inercia $J = 0.01 \\, kg \\cdot m^2$ y un coeficiente de fricción viscosa $B = 0.1 \\, N \\cdot m \\cdot s$. Determine la función de transferencia del sistema, la ubicación del polo y la constante de tiempo. Analice la estabilidad del sistema y describa cómo respondería a un cambio en el torque de entrada.\n",
    "\n"
   ]
  },
  {
   "cell_type": "code",
   "execution_count": null,
   "id": "6081385c",
   "metadata": {},
   "outputs": [],
   "source": [
    "# Escriba las líneas de código para importar las bibliotecas necesarias, numpy, matplotlib, control\n",
    "# importar solo solve_ivp de scipy.integrate\n"
   ]
  },
  {
   "cell_type": "code",
   "execution_count": null,
   "id": "49f55b0c",
   "metadata": {},
   "outputs": [],
   "source": [
    "# Función resolve euler\n",
    "def f_euler(f, tspan, x0, h):\n",
    "    class Solution:\n",
    "        pass\n",
    "    sol = Solution()\n",
    "    t0, tf = tspan\n",
    "    N = int((tf - t0) / h) + 1\n",
    "    t = np.linspace(t0, tf, N)\n",
    "    x = np.zeros((len(x0), N))\n",
    "    x[:, 0] = x0\n",
    "    for i in range(1, N):\n",
    "        x[:, i] = x[:, i-1] + h * f(t[i-1], x[:, i-1])\n",
    "    sol.t = t\n",
    "    sol.y = x\n",
    "    return sol"
   ]
  },
  {
   "cell_type": "code",
   "execution_count": null,
   "id": "6e5cf375",
   "metadata": {},
   "outputs": [],
   "source": [
    "# Defina la Función con la ecuación diferencial que describe el sistema de primer orden, cuyo parámetros de entrada son x y t\n",
    "def f(t, x):\n",
    "    # Parámetros del sistema\n",
    "\n",
    "    \n",
    "    dxdt = 0 # Completar con la ecuación diferencial del sistema de primer orden\n",
    "    return dxdt\n",
    "\n",
    "def entrada_escalon(t):\n",
    "    if t >= 0:\n",
    "        return 1\n",
    "    else:\n",
    "        return 0"
   ]
  },
  {
   "cell_type": "code",
   "execution_count": null,
   "id": "ca4ac3a7",
   "metadata": {},
   "outputs": [],
   "source": [
    "# Parámetros del sistema CASO 1: Baja inercia y bajo amortiguamiento\n",
    "J = 0.01  # Inercia\n",
    "B = 0.1   # Amortiguamiento\n",
    "# Función de transferencia \n",
    "# usar tf de la librería de control\n",
    "\n",
    "# Polos del sistema\n",
    "# usar poles --> método del tipo tf\n",
    "\n",
    "# Valor de Tau"
   ]
  },
  {
   "cell_type": "code",
   "execution_count": null,
   "id": "44153013",
   "metadata": {},
   "outputs": [],
   "source": [
    "# Solución de la ecuación diferencial \n",
    "# Tiempo de simulación\n",
    "# Definir paso de integración y tiempo de simulación.\n",
    "h = \n",
    "tsimu =\n",
    "tspan = [0, tsimu]\n",
    "\n",
    "# Condición inicial\n",
    "x0 = 0\n",
    "\n",
    "# Solución de la ecuación diferencial utilizando euler\n",
    "# usar la función f_euler definida anteriormente\n",
    "# f_euler(f, tspan, x0, h)  \n",
    "# donde: f es la función que define la ecuación diferencial, \n",
    "#       tspan es el intervalo de tiempo,\n",
    "#       x0 es la condición inicial \n",
    "#       y h es el paso de integración.\n",
    "# Salida de la función: sol.t (tiempo) y sol.y (respuesta del sistema)\n",
    "\n",
    "\n",
    "\n",
    "# Solución con solve_ivp\n",
    "# usar solve_ivp de scipy.integrate\n",
    "# solve_ivp(f, tspan, x0)\n",
    "# solve_ivp(f,t_span,x0, method = 'RK45') # RK45 es el método por defecto, RK23, DOP853, Radau, BDF, LSODA\n",
    "#\n",
    "\n",
    "\n"
   ]
  },
  {
   "cell_type": "code",
   "execution_count": null,
   "id": "43290cd9",
   "metadata": {},
   "outputs": [],
   "source": [
    "## Gráficas:"
   ]
  },
  {
   "cell_type": "code",
   "execution_count": null,
   "id": "624d30fd",
   "metadata": {},
   "outputs": [],
   "source": [
    "# Parámetros del sistema: CASO 2: Alta inercia y bajo amortiguamiento\n",
    "J = 1.0  # Inercia\n",
    "B = 0.1   # Amortiguamiento\n",
    "# Función de transferencia \n",
    "# usar tf de la librería de control\n",
    "\n",
    "# Polos del sistema\n",
    "# usar poles --> método del tipo tf\n",
    "\n",
    "# Valor de Tau"
   ]
  },
  {
   "cell_type": "code",
   "execution_count": null,
   "id": "a3529f75",
   "metadata": {},
   "outputs": [],
   "source": [
    "# Solución de la ecuación diferencial \n",
    "# Tiempo de simulación\n",
    "# Definir paso de integración y tiempo de simulación.\n",
    "h = \n",
    "tsimu =\n",
    "tspan = [0, tsimu]\n",
    "\n",
    "# Condición inicial\n",
    "x0 = 0\n",
    "\n",
    "# Solución de la ecuación diferencial utilizando euler\n",
    "# usar la función f_euler definida anteriormente\n",
    "# f_euler(f, tspan, x0, h)  \n",
    "# donde: f es la función que define la ecuación diferencial, \n",
    "#       tspan es el intervalo de tiempo,\n",
    "#       x0 es la condición inicial \n",
    "#       y h es el paso de integración.\n",
    "# Salida de la función: sol.t (tiempo) y sol.y (respuesta del sistema)\n",
    "\n",
    "\n",
    "\n",
    "# Solución con solve_ivp\n",
    "# usar solve_ivp de scipy.integrate\n",
    "# solve_ivp(f, tspan, x0)\n",
    "# solve_ivp(f,t_span,x0, method = 'RK45') # RK45 es el método por defecto, RK23, DOP853, Radau, BDF, LSODA\n",
    "#\n",
    "\n",
    "\n"
   ]
  },
  {
   "cell_type": "code",
   "execution_count": null,
   "id": "14d47ee8",
   "metadata": {},
   "outputs": [],
   "source": [
    "## Gráficas:"
   ]
  },
  {
   "cell_type": "markdown",
   "id": "4c2212d3",
   "metadata": {},
   "source": [
    "Sintonización de la Ganacia\n",
    "---------------------------------------\n",
    "La sintonización de la ganancia en un sistema de primer orden implica ajustar el valor de $K$ en la función de transferencia:\n",
    "$$G(s) = \\frac{K}{\\tau s + 1}$$\n",
    "Aumentar la ganancia $K$ generalmente mejora la rapidez de la respuesta del sistema, pero también puede llevar a una mayor oscilación o incluso inestabilidad si no se maneja adecuadamente. La sintonización adecuada de la ganancia es crucial para lograr un equilibrio entre la velocidad de respuesta y la estabilidad del sistema.\n",
    "\n",
    "Lugar de las raíces\n",
    "---------------------------------------\n",
    "El lugar de las raíces es una herramienta gráfica utilizada para analizar cómo varían los polos de un sistema de control en función de la ganancia $K$. En un sistema de primer orden, el polo se mueve a lo largo del eje real negativo a medida que se ajusta la ganancia. Esto permite a los ingenieros visualizar cómo los cambios en la ganancia afectan la estabilidad y el rendimiento del sistema.\n",
    "En Python, se puede utilizar la librería `control` para trazar el lugar de las raíces de un sistema de primer orden. Aquí hay un ejemplo de cómo hacerlo:\n",
    "\n",
    "```python\n",
    "import control as ct\n",
    "import matplotlib.pyplot as plt\n",
    "\n",
    "# Parámetros del sistema\n",
    "K = 1.0  # Ganancia\n",
    "tau = 0.1  # Constante de tiempo\n",
    "\n",
    "# Función de transferencia\n",
    "G = ct.tf([K], [tau, 1])\n",
    "\n",
    "# Lugar de las raíces\n",
    "rlist = ct.root_locus(G, Plot=True)"
   ]
  },
  {
   "cell_type": "code",
   "execution_count": 23,
   "id": "382e7a30",
   "metadata": {},
   "outputs": [
    {
     "name": "stderr",
     "output_type": "stream",
     "text": [
      "Ignoring fixed x limits to fulfill fixed data aspect with adjustable data limits.\n"
     ]
    },
    {
     "data": {
      "image/png": "[encoded data removed]",
      "text/plain": [
       "<Figure size 640x480 with 1 Axes>"
      ]
     },
     "metadata": {},
     "output_type": "display_data"
    },
    {
     "data": {
      "image/png": "[encoded data removed]",
      "text/plain": [
       "<Figure size 640x480 with 1 Axes>"
      ]
     },
     "metadata": {},
     "output_type": "display_data"
    }
   ],
   "source": [
    "# Parámetros del sistema\n",
    "import control as ct\n",
    "import numpy as np\n",
    "import matplotlib.pyplot as plt\n",
    "\n",
    "# Parámetros del sistema\n",
    "K = 1.0  # Ganancia\n",
    "tau = 0.1  # Constante de tiempo\n",
    "\n",
    "# Función de transferencia\n",
    "G = ct.tf([K], [tau, 1])\n",
    "\n",
    "\n",
    "# Lugar de las raíces\n",
    "respuesta = ct.pole_zero_map(G)\n",
    "plt.figure()\n",
    "ct.pole_zero_plot(respuesta)\n",
    "plt.figure()\n",
    "a = ct.root_locus(G)"
   ]
  },
  {
   "cell_type": "code",
   "execution_count": 38,
   "id": "f45b87d8",
   "metadata": {},
   "outputs": [],
   "source": [
    "a= ct.root_locus_map(G)"
   ]
  },
  {
   "cell_type": "code",
   "execution_count": 47,
   "id": "11d9aabd",
   "metadata": {},
   "outputs": [
    {
     "data": {
      "application/vnd.microsoft.datawrangler.viewer.v0+json": {
       "columns": [
        {
         "name": "index",
         "rawType": "int64",
         "type": "integer"
        },
        {
         "name": "Ganancia K",
         "rawType": "float64",
         "type": "float"
        },
        {
         "name": "Raíces",
         "rawType": "object",
         "type": "unknown"
        }
       ],
       "ref": "edad174c-fa84-4cd8-9919-f8ec846e7ac3",
       "rows": [
        [
         "0",
         "0.0",
         "[np.float64(-10.0)]"
        ],
        [
         "1",
         "0.0",
         "[np.float64(-10.0)]"
        ],
        [
         "2",
         "0.0020408163265306124",
         "[np.float64(-10.020408163265305)]"
        ],
        [
         "3",
         "0.004081632653061225",
         "[np.float64(-10.040816326530612)]"
        ],
        [
         "4",
         "0.006122448979591837",
         "[np.float64(-10.061224489795919)]"
        ],
        [
         "5",
         "0.00816326530612245",
         "[np.float64(-10.081632653061225)]"
        ],
        [
         "6",
         "0.010204081632653062",
         "[np.float64(-10.102040816326529)]"
        ],
        [
         "7",
         "0.012244897959183675",
         "[np.float64(-10.122448979591836)]"
        ],
        [
         "8",
         "0.014285714285714287",
         "[np.float64(-10.142857142857142)]"
        ],
        [
         "9",
         "0.0163265306122449",
         "[np.float64(-10.163265306122447)]"
        ],
        [
         "10",
         "0.018367346938775512",
         "[np.float64(-10.183673469387754)]"
        ],
        [
         "11",
         "0.020408163265306124",
         "[np.float64(-10.204081632653061)]"
        ],
        [
         "12",
         "0.022448979591836737",
         "[np.float64(-10.224489795918368)]"
        ],
        [
         "13",
         "0.02448979591836735",
         "[np.float64(-10.244897959183673)]"
        ],
        [
         "14",
         "0.02653061224489796",
         "[np.float64(-10.26530612244898)]"
        ],
        [
         "15",
         "0.028571428571428574",
         "[np.float64(-10.285714285714285)]"
        ],
        [
         "16",
         "0.030612244897959186",
         "[np.float64(-10.30612244897959)]"
        ],
        [
         "17",
         "0.0326530612244898",
         "[np.float64(-10.326530612244897)]"
        ],
        [
         "18",
         "0.03469387755102041",
         "[np.float64(-10.346938775510203)]"
        ],
        [
         "19",
         "0.036734693877551024",
         "[np.float64(-10.36734693877551)]"
        ],
        [
         "20",
         "0.03877551020408164",
         "[np.float64(-10.387755102040815)]"
        ],
        [
         "21",
         "0.04081632653061225",
         "[np.float64(-10.408163265306122)]"
        ],
        [
         "22",
         "0.04285714285714286",
         "[np.float64(-10.428571428571429)]"
        ],
        [
         "23",
         "0.04489795918367347",
         "[np.float64(-10.448979591836736)]"
        ],
        [
         "24",
         "0.04693877551020409",
         "[np.float64(-10.469387755102039)]"
        ],
        [
         "25",
         "0.0489795918367347",
         "[np.float64(-10.489795918367346)]"
        ],
        [
         "26",
         "0.05102040816326531",
         "[np.float64(-10.510204081632653)]"
        ],
        [
         "27",
         "0.05306122448979592",
         "[np.float64(-10.530612244897958)]"
        ],
        [
         "28",
         "0.05510204081632654",
         "[np.float64(-10.551020408163264)]"
        ],
        [
         "29",
         "0.05714285714285715",
         "[np.float64(-10.571428571428571)]"
        ],
        [
         "30",
         "0.05918367346938776",
         "[np.float64(-10.591836734693878)]"
        ],
        [
         "31",
         "0.06122448979591837",
         "[np.float64(-10.612244897959183)]"
        ],
        [
         "32",
         "0.06326530612244899",
         "[np.float64(-10.63265306122449)]"
        ],
        [
         "33",
         "0.0653061224489796",
         "[np.float64(-10.653061224489795)]"
        ],
        [
         "34",
         "0.0673469387755102",
         "[np.float64(-10.6734693877551)]"
        ],
        [
         "35",
         "0.06938775510204082",
         "[np.float64(-10.693877551020407)]"
        ],
        [
         "36",
         "0.07142857142857144",
         "[np.float64(-10.714285714285714)]"
        ],
        [
         "37",
         "0.07346938775510205",
         "[np.float64(-10.73469387755102)]"
        ],
        [
         "38",
         "0.07551020408163266",
         "[np.float64(-10.755102040816325)]"
        ],
        [
         "39",
         "0.07755102040816328",
         "[np.float64(-10.775510204081632)]"
        ],
        [
         "40",
         "0.07959183673469389",
         "[np.float64(-10.795918367346939)]"
        ],
        [
         "41",
         "0.0816326530612245",
         "[np.float64(-10.816326530612246)]"
        ],
        [
         "42",
         "0.0836734693877551",
         "[np.float64(-10.836734693877549)]"
        ],
        [
         "43",
         "0.08571428571428572",
         "[np.float64(-10.857142857142856)]"
        ],
        [
         "44",
         "0.08775510204081634",
         "[np.float64(-10.877551020408163)]"
        ],
        [
         "45",
         "0.08979591836734695",
         "[np.float64(-10.897959183673468)]"
        ],
        [
         "46",
         "0.09183673469387756",
         "[np.float64(-10.918367346938775)]"
        ],
        [
         "47",
         "0.09387755102040818",
         "[np.float64(-10.938775510204081)]"
        ],
        [
         "48",
         "0.09591836734693879",
         "[np.float64(-10.959183673469388)]"
        ],
        [
         "49",
         "0.0979591836734694",
         "[np.float64(-10.979591836734693)]"
        ]
       ],
       "shape": {
        "columns": 2,
        "rows": 54
       }
      },
      "text/html": [
       "<div>\n",
       "<style scoped>\n",
       "    .dataframe tbody tr th:only-of-type {\n",
       "        vertical-align: middle;\n",
       "    }\n",
       "\n",
       "    .dataframe tbody tr th {\n",
       "        vertical-align: top;\n",
       "    }\n",
       "\n",
       "    .dataframe thead th {\n",
       "        text-align: right;\n",
       "    }\n",
       "</style>\n",
       "<table border=\"1\" class=\"dataframe\">\n",
       "  <thead>\n",
       "    <tr style=\"text-align: right;\">\n",
       "      <th></th>\n",
       "      <th>Ganancia K</th>\n",
       "      <th>Raíces</th>\n",
       "    </tr>\n",
       "  </thead>\n",
       "  <tbody>\n",
       "    <tr>\n",
       "      <th>0</th>\n",
       "      <td>0.000000</td>\n",
       "      <td>[-10.0]</td>\n",
       "    </tr>\n",
       "    <tr>\n",
       "      <th>1</th>\n",
       "      <td>0.000000</td>\n",
       "      <td>[-10.0]</td>\n",
       "    </tr>\n",
       "    <tr>\n",
       "      <th>2</th>\n",
       "      <td>0.002041</td>\n",
       "      <td>[-10.020408163265305]</td>\n",
       "    </tr>\n",
       "    <tr>\n",
       "      <th>3</th>\n",
       "      <td>0.004082</td>\n",
       "      <td>[-10.040816326530612]</td>\n",
       "    </tr>\n",
       "    <tr>\n",
       "      <th>4</th>\n",
       "      <td>0.006122</td>\n",
       "      <td>[-10.061224489795919]</td>\n",
       "    </tr>\n",
       "    <tr>\n",
       "      <th>5</th>\n",
       "      <td>0.008163</td>\n",
       "      <td>[-10.081632653061225]</td>\n",
       "    </tr>\n",
       "    <tr>\n",
       "      <th>6</th>\n",
       "      <td>0.010204</td>\n",
       "      <td>[-10.102040816326529]</td>\n",
       "    </tr>\n",
       "    <tr>\n",
       "      <th>7</th>\n",
       "      <td>0.012245</td>\n",
       "      <td>[-10.122448979591836]</td>\n",
       "    </tr>\n",
       "    <tr>\n",
       "      <th>8</th>\n",
       "      <td>0.014286</td>\n",
       "      <td>[-10.142857142857142]</td>\n",
       "    </tr>\n",
       "    <tr>\n",
       "      <th>9</th>\n",
       "      <td>0.016327</td>\n",
       "      <td>[-10.163265306122447]</td>\n",
       "    </tr>\n",
       "    <tr>\n",
       "      <th>10</th>\n",
       "      <td>0.018367</td>\n",
       "      <td>[-10.183673469387754]</td>\n",
       "    </tr>\n",
       "    <tr>\n",
       "      <th>11</th>\n",
       "      <td>0.020408</td>\n",
       "      <td>[-10.204081632653061]</td>\n",
       "    </tr>\n",
       "    <tr>\n",
       "      <th>12</th>\n",
       "      <td>0.022449</td>\n",
       "      <td>[-10.224489795918368]</td>\n",
       "    </tr>\n",
       "    <tr>\n",
       "      <th>13</th>\n",
       "      <td>0.024490</td>\n",
       "      <td>[-10.244897959183673]</td>\n",
       "    </tr>\n",
       "    <tr>\n",
       "      <th>14</th>\n",
       "      <td>0.026531</td>\n",
       "      <td>[-10.26530612244898]</td>\n",
       "    </tr>\n",
       "    <tr>\n",
       "      <th>15</th>\n",
       "      <td>0.028571</td>\n",
       "      <td>[-10.285714285714285]</td>\n",
       "    </tr>\n",
       "    <tr>\n",
       "      <th>16</th>\n",
       "      <td>0.030612</td>\n",
       "      <td>[-10.30612244897959]</td>\n",
       "    </tr>\n",
       "    <tr>\n",
       "      <th>17</th>\n",
       "      <td>0.032653</td>\n",
       "      <td>[-10.326530612244897]</td>\n",
       "    </tr>\n",
       "    <tr>\n",
       "      <th>18</th>\n",
       "      <td>0.034694</td>\n",
       "      <td>[-10.346938775510203]</td>\n",
       "    </tr>\n",
       "    <tr>\n",
       "      <th>19</th>\n",
       "      <td>0.036735</td>\n",
       "      <td>[-10.36734693877551]</td>\n",
       "    </tr>\n",
       "    <tr>\n",
       "      <th>20</th>\n",
       "      <td>0.038776</td>\n",
       "      <td>[-10.387755102040815]</td>\n",
       "    </tr>\n",
       "    <tr>\n",
       "      <th>21</th>\n",
       "      <td>0.040816</td>\n",
       "      <td>[-10.408163265306122]</td>\n",
       "    </tr>\n",
       "    <tr>\n",
       "      <th>22</th>\n",
       "      <td>0.042857</td>\n",
       "      <td>[-10.428571428571429]</td>\n",
       "    </tr>\n",
       "    <tr>\n",
       "      <th>23</th>\n",
       "      <td>0.044898</td>\n",
       "      <td>[-10.448979591836736]</td>\n",
       "    </tr>\n",
       "    <tr>\n",
       "      <th>24</th>\n",
       "      <td>0.046939</td>\n",
       "      <td>[-10.469387755102039]</td>\n",
       "    </tr>\n",
       "    <tr>\n",
       "      <th>25</th>\n",
       "      <td>0.048980</td>\n",
       "      <td>[-10.489795918367346]</td>\n",
       "    </tr>\n",
       "    <tr>\n",
       "      <th>26</th>\n",
       "      <td>0.051020</td>\n",
       "      <td>[-10.510204081632653]</td>\n",
       "    </tr>\n",
       "    <tr>\n",
       "      <th>27</th>\n",
       "      <td>0.053061</td>\n",
       "      <td>[-10.530612244897958]</td>\n",
       "    </tr>\n",
       "    <tr>\n",
       "      <th>28</th>\n",
       "      <td>0.055102</td>\n",
       "      <td>[-10.551020408163264]</td>\n",
       "    </tr>\n",
       "    <tr>\n",
       "      <th>29</th>\n",
       "      <td>0.057143</td>\n",
       "      <td>[-10.571428571428571]</td>\n",
       "    </tr>\n",
       "    <tr>\n",
       "      <th>30</th>\n",
       "      <td>0.059184</td>\n",
       "      <td>[-10.591836734693878]</td>\n",
       "    </tr>\n",
       "    <tr>\n",
       "      <th>31</th>\n",
       "      <td>0.061224</td>\n",
       "      <td>[-10.612244897959183]</td>\n",
       "    </tr>\n",
       "    <tr>\n",
       "      <th>32</th>\n",
       "      <td>0.063265</td>\n",
       "      <td>[-10.63265306122449]</td>\n",
       "    </tr>\n",
       "    <tr>\n",
       "      <th>33</th>\n",
       "      <td>0.065306</td>\n",
       "      <td>[-10.653061224489795]</td>\n",
       "    </tr>\n",
       "    <tr>\n",
       "      <th>34</th>\n",
       "      <td>0.067347</td>\n",
       "      <td>[-10.6734693877551]</td>\n",
       "    </tr>\n",
       "    <tr>\n",
       "      <th>35</th>\n",
       "      <td>0.069388</td>\n",
       "      <td>[-10.693877551020407]</td>\n",
       "    </tr>\n",
       "    <tr>\n",
       "      <th>36</th>\n",
       "      <td>0.071429</td>\n",
       "      <td>[-10.714285714285714]</td>\n",
       "    </tr>\n",
       "    <tr>\n",
       "      <th>37</th>\n",
       "      <td>0.073469</td>\n",
       "      <td>[-10.73469387755102]</td>\n",
       "    </tr>\n",
       "    <tr>\n",
       "      <th>38</th>\n",
       "      <td>0.075510</td>\n",
       "      <td>[-10.755102040816325]</td>\n",
       "    </tr>\n",
       "    <tr>\n",
       "      <th>39</th>\n",
       "      <td>0.077551</td>\n",
       "      <td>[-10.775510204081632]</td>\n",
       "    </tr>\n",
       "    <tr>\n",
       "      <th>40</th>\n",
       "      <td>0.079592</td>\n",
       "      <td>[-10.795918367346939]</td>\n",
       "    </tr>\n",
       "    <tr>\n",
       "      <th>41</th>\n",
       "      <td>0.081633</td>\n",
       "      <td>[-10.816326530612246]</td>\n",
       "    </tr>\n",
       "    <tr>\n",
       "      <th>42</th>\n",
       "      <td>0.083673</td>\n",
       "      <td>[-10.836734693877549]</td>\n",
       "    </tr>\n",
       "    <tr>\n",
       "      <th>43</th>\n",
       "      <td>0.085714</td>\n",
       "      <td>[-10.857142857142856]</td>\n",
       "    </tr>\n",
       "    <tr>\n",
       "      <th>44</th>\n",
       "      <td>0.087755</td>\n",
       "      <td>[-10.877551020408163]</td>\n",
       "    </tr>\n",
       "    <tr>\n",
       "      <th>45</th>\n",
       "      <td>0.089796</td>\n",
       "      <td>[-10.897959183673468]</td>\n",
       "    </tr>\n",
       "    <tr>\n",
       "      <th>46</th>\n",
       "      <td>0.091837</td>\n",
       "      <td>[-10.918367346938775]</td>\n",
       "    </tr>\n",
       "    <tr>\n",
       "      <th>47</th>\n",
       "      <td>0.093878</td>\n",
       "      <td>[-10.938775510204081]</td>\n",
       "    </tr>\n",
       "    <tr>\n",
       "      <th>48</th>\n",
       "      <td>0.095918</td>\n",
       "      <td>[-10.959183673469388]</td>\n",
       "    </tr>\n",
       "    <tr>\n",
       "      <th>49</th>\n",
       "      <td>0.097959</td>\n",
       "      <td>[-10.979591836734693]</td>\n",
       "    </tr>\n",
       "    <tr>\n",
       "      <th>50</th>\n",
       "      <td>0.100000</td>\n",
       "      <td>[-11.0]</td>\n",
       "    </tr>\n",
       "    <tr>\n",
       "      <th>51</th>\n",
       "      <td>1.000000</td>\n",
       "      <td>[-20.0]</td>\n",
       "    </tr>\n",
       "    <tr>\n",
       "      <th>52</th>\n",
       "      <td>10.000000</td>\n",
       "      <td>[-110.0]</td>\n",
       "    </tr>\n",
       "    <tr>\n",
       "      <th>53</th>\n",
       "      <td>100.000000</td>\n",
       "      <td>[-1010.0]</td>\n",
       "    </tr>\n",
       "  </tbody>\n",
       "</table>\n",
       "</div>"
      ],
      "text/plain": [
       "    Ganancia K                 Raíces\n",
       "0     0.000000                [-10.0]\n",
       "1     0.000000                [-10.0]\n",
       "2     0.002041  [-10.020408163265305]\n",
       "3     0.004082  [-10.040816326530612]\n",
       "4     0.006122  [-10.061224489795919]\n",
       "5     0.008163  [-10.081632653061225]\n",
       "6     0.010204  [-10.102040816326529]\n",
       "7     0.012245  [-10.122448979591836]\n",
       "8     0.014286  [-10.142857142857142]\n",
       "9     0.016327  [-10.163265306122447]\n",
       "10    0.018367  [-10.183673469387754]\n",
       "11    0.020408  [-10.204081632653061]\n",
       "12    0.022449  [-10.224489795918368]\n",
       "13    0.024490  [-10.244897959183673]\n",
       "14    0.026531   [-10.26530612244898]\n",
       "15    0.028571  [-10.285714285714285]\n",
       "16    0.030612   [-10.30612244897959]\n",
       "17    0.032653  [-10.326530612244897]\n",
       "18    0.034694  [-10.346938775510203]\n",
       "19    0.036735   [-10.36734693877551]\n",
       "20    0.038776  [-10.387755102040815]\n",
       "21    0.040816  [-10.408163265306122]\n",
       "22    0.042857  [-10.428571428571429]\n",
       "23    0.044898  [-10.448979591836736]\n",
       "24    0.046939  [-10.469387755102039]\n",
       "25    0.048980  [-10.489795918367346]\n",
       "26    0.051020  [-10.510204081632653]\n",
       "27    0.053061  [-10.530612244897958]\n",
       "28    0.055102  [-10.551020408163264]\n",
       "29    0.057143  [-10.571428571428571]\n",
       "30    0.059184  [-10.591836734693878]\n",
       "31    0.061224  [-10.612244897959183]\n",
       "32    0.063265   [-10.63265306122449]\n",
       "33    0.065306  [-10.653061224489795]\n",
       "34    0.067347    [-10.6734693877551]\n",
       "35    0.069388  [-10.693877551020407]\n",
       "36    0.071429  [-10.714285714285714]\n",
       "37    0.073469   [-10.73469387755102]\n",
       "38    0.075510  [-10.755102040816325]\n",
       "39    0.077551  [-10.775510204081632]\n",
       "40    0.079592  [-10.795918367346939]\n",
       "41    0.081633  [-10.816326530612246]\n",
       "42    0.083673  [-10.836734693877549]\n",
       "43    0.085714  [-10.857142857142856]\n",
       "44    0.087755  [-10.877551020408163]\n",
       "45    0.089796  [-10.897959183673468]\n",
       "46    0.091837  [-10.918367346938775]\n",
       "47    0.093878  [-10.938775510204081]\n",
       "48    0.095918  [-10.959183673469388]\n",
       "49    0.097959  [-10.979591836734693]\n",
       "50    0.100000                [-11.0]\n",
       "51    1.000000                [-20.0]\n",
       "52   10.000000               [-110.0]\n",
       "53  100.000000              [-1010.0]"
      ]
     },
     "execution_count": 47,
     "metadata": {},
     "output_type": "execute_result"
    }
   ],
   "source": [
    "import pandas as pd\n",
    "\n",
    "tabla = pd.DataFrame({\n",
    "    'Ganancia K': a.gains,\n",
    "    'Raíces': [list(raices) for raices in a.loci]\n",
    "})\n",
    "tabla"
   ]
  }
 ],
 "metadata": {
  "kernelspec": {
   "display_name": "base",
   "language": "python",
   "name": "python3"
  },
  "language_info": {
   "codemirror_mode": {
    "name": "ipython",
    "version": 3
   },
   "file_extension": ".py",
   "mimetype": "text/x-python",
   "name": "python",
   "nbconvert_exporter": "python",
   "pygments_lexer": "ipython3",
   "version": "3.13.5"
  }
 },
 "nbformat": 4,
 "nbformat_minor": 5
}
