{
 "cells": [
  {
   "cell_type": "markdown",
   "id": "33a7202e",
   "metadata": {},
   "source": [
    "Características de Sistemas de Primer Orden\n",
    "=================================\n",
    "Los sistemas de primer orden son aquellos que pueden describirse mediante una ecuación diferencial de primer orden. Estos sistemas tienen varias características distintivas:\n",
    "1. **Respuesta Exponencial**: La respuesta de un sistema de primer orden a una entrada escalón es típicamente una función exponencial que se aproxima a un valor final con el tiempo.\n",
    "2. **Constante de Tiempo (τ)**: La constante de tiempo es un parámetro clave que determina la velocidad de respuesta del sistema. Un valor más pequeño de τ indica una respuesta más rápida.\n",
    "3. **Estabilidad**: Los sistemas de primer orden son inherentemente estables si la constante de tiempo es positiva.\n",
    "4. **Función de Transferencia**: La función de transferencia de un sistema de primer orden generalmente tiene la forma $\\frac{K}{\\tau s + 1}$, donde K es la ganancia del sistema.\n",
    "5. **Simplicidad**: Los sistemas de primer orden son más simples de analizar y diseñar en comparación con sistemas de orden superior, lo que los hace ideales para aplicaciones básicas de control y modelado.\n",
    "Estos aspectos hacen que los sistemas de primer orden sean fundamentales en el estudio de la teoría de control y en diversas aplicaciones de ingeniería."
   ]
  },
  {
   "cell_type": "markdown",
   "id": "857a8bc4",
   "metadata": {
    "vscode": {
     "languageId": "plaintext"
    }
   },
   "source": [
    "Polos y ceros de la Función de Transferencia\n",
    "---------------------------------------\n",
    "En un sistema de primer orden, la función de transferencia típicamente tiene la forma:\n",
    "$$G(s) = \\frac{K}{\\tau s + 1}$$\n",
    "Donde:\n",
    "- $K$ es la ganancia del sistema.\n",
    "- $\\tau$ es la constante de tiempo del sistema.\n",
    "El polo de la función de transferencia se encuentra en:\n",
    "$$s = -\\frac{1}{\\tau}$$\n",
    "No hay ceros en un sistema de primer orden típico. La ubicación del polo en el semiplano izquierdo indica que el sistema es estable.\n"
   ]
  },
  {
   "cell_type": "markdown",
   "id": "501d0c4a",
   "metadata": {},
   "source": [
    "Ejemplo de aplicación: Control de velocidad de un motor DC\n",
    "----------------------------------------------  \n",
    "Consideremos un motor de corriente continua (DC) cuya dinámica puede modelarse como un sistema de primer orden. La función de transferencia que relaciona la velocidad angular del motor ($\\omega$) con el torque de entrada ($T$) es:\n",
    "$$G(s) = \\frac{\\omega(s)}{T(s)} = \\frac{1}{Js + B}$$\n",
    "Donde:\n",
    "- $J$ es el momento de inercia del rotor.\n",
    "- $B$ es el coeficiente de fricción viscosa.\n",
    "Este sistema tiene un polo en:\n",
    "$$s = -\\frac{B}{J}$$\n",
    "La constante de tiempo del sistema es:\n",
    "$$\\tau = \\frac{J}{B}$$\n",
    "La respuesta del motor a un cambio en el torque de entrada será una función exponencial que se aproxima a la velocidad final con una constante de tiempo $\\tau$. Este modelo es útil para diseñar controladores que regulen la velocidad del motor de manera eficiente.\n"
   ]
  },
  {
   "cell_type": "markdown",
   "id": "fecb06ec",
   "metadata": {},
   "source": [
    "Ejercicio 1. Analizar el sistema de control de velocidad de un motor DC\n",
    "------------------------------------------------\n",
    "Caso 1: Suponga que un motor DC tiene un momento de inercia $J = 0.01 \\, kg \\cdot m^2$ y un coeficiente de fricción viscosa $B = 0.1 \\, N \\cdot m \\cdot s$. Determine la función de transferencia del sistema, la ubicación del polo y la constante de tiempo. Analice la estabilidad del sistema y describa cómo respondería a un cambio en el torque de entrada.\n",
    "\n"
   ]
  },
  {
   "cell_type": "code",
   "execution_count": 1,
   "id": "6081385c",
   "metadata": {},
   "outputs": [],
   "source": [
    "# Escriba las líneas de código para importar las bibliotecas necesarias, numpy, matplotlib, control\n",
    "# importar solo solve_ivp de scipy.integrate\n",
    "import numpy as np\n",
    "import matplotlib.pyplot as plt\n",
    "import control as ct \n",
    "from scipy.integrate import solve_ivp"
   ]
  },
  {
   "cell_type": "code",
   "execution_count": 11,
   "id": "49f55b0c",
   "metadata": {},
   "outputs": [],
   "source": [
    "# Función resolve euler\n",
    "def f_euler(f, tspan, x0, h):\n",
    "    class Solution:\n",
    "        pass\n",
    "    sol = Solution()\n",
    "    t0, tf = tspan\n",
    "    N = int((tf - t0) / h) + 1\n",
    "    t = np.linspace(t0, tf, N)\n",
    "    x = np.zeros((len(x0), N))\n",
    "    x[:, 0] = x0\n",
    "    for i in range(1, N):\n",
    "        x[:, i] = x[:, i-1] + h * f(t[i-1], x[:, i-1])\n",
    "    sol.t = t\n",
    "    sol.y = x\n",
    "    return sol"
   ]
  },
  {
   "cell_type": "code",
   "execution_count": 12,
   "id": "6e5cf375",
   "metadata": {},
   "outputs": [],
   "source": [
    "# Defina la Función con la ecuación diferencial que describe el sistema de primer orden, cuyo parámetros de entrada son x y t\n",
    "def f(t, x):\n",
    "    dxdt = -B/J*x + entrada_escalon(t)/J \n",
    "    \n",
    "    return dxdt\n",
    "\n",
    "def entrada_escalon(t):\n",
    "    if t >= 0:\n",
    "        return 1\n",
    "    else:\n",
    "        return 0"
   ]
  },
  {
   "cell_type": "code",
   "execution_count": 13,
   "id": "ca4ac3a7",
   "metadata": {},
   "outputs": [
    {
     "name": "stdout",
     "output_type": "stream",
     "text": [
      "<TransferFunction>: sys[3]\n",
      "Inputs (1): ['u[0]']\n",
      "Outputs (1): ['y[0]']\n",
      "\n",
      "       1\n",
      "  ------------\n",
      "  0.01 s + 0.1\n",
      "Polos del sistema: [-10.+0.j]\n",
      "Valor de Tau: (0.1-0j)\n"
     ]
    }
   ],
   "source": [
    "# Parámetros del sistema CASO 1: Baja inercia y bajo amortiguamiento\n",
    "J = 0.01  # Inercia\n",
    "B = 0.1   # Amortiguamiento\n",
    "# Función de transferencia \n",
    "# usar tf de la librería de control\n",
    "G = ct.tf(1, [J, B])\n",
    "print(G)\n",
    "# Polos del sistema\n",
    "# usar poles --> método del tipo tf\n",
    "polos =G.poles()\n",
    "print(\"Polos del sistema:\", polos)\n",
    "# Valor de Tau\n",
    "tau = -1/polos[0]\n",
    "print(\"Valor de Tau:\", tau)"
   ]
  },
  {
   "cell_type": "code",
   "execution_count": 15,
   "id": "44153013",
   "metadata": {},
   "outputs": [],
   "source": [
    "# Solución de la ecuación diferencial \n",
    "# Tiempo de simulación\n",
    "# Definir paso de integración y tiempo de simulación.\n",
    "h = 0.01\n",
    "tsimu = 0.5\n",
    "tspan = [0, tsimu]\n",
    "\n",
    "# Condición inicial\n",
    "x0 = 0\n",
    "\n",
    "# Solución de la ecuación diferencial utilizando euler\n",
    "# usar la función f_euler definida anteriormente\n",
    "# f_euler(f, tspan, x0, h)  \n",
    "# donde: f es la función que define la ecuación diferencial, \n",
    "#       tspan es el intervalo de tiempo,\n",
    "#       x0 es la condición inicial \n",
    "#       y h es el paso de integración.\n",
    "# Salida de la función: sol.t (tiempo) y sol.y (respuesta del sistema)\n",
    "sol_euler = f_euler(f, tspan, [x0], h)\n",
    "\n",
    "\n",
    "# Solución con solve_ivp\n",
    "# usar solve_ivp de scipy.integrate\n",
    "# solve_ivp(f, tspan, x0)\n",
    "# solve_ivp(f,t_span,x0, method = 'RK45') # RK45 es el método por defecto, RK23, DOP853, Radau, BDF, LSODA\n",
    "#\n",
    "sol_slv = solve_ivp(f, tspan, [x0])\n",
    "\n",
    "\n"
   ]
  },
  {
   "cell_type": "code",
   "execution_count": 16,
   "id": "43290cd9",
   "metadata": {},
   "outputs": [
    {
     "data": {
      "image/png": "[encoded data removed]",
      "text/plain": [
       "<Figure size 640x480 with 1 Axes>"
      ]
     },
     "metadata": {},
     "output_type": "display_data"
    }
   ],
   "source": [
    "## Gráficas:\n",
    "plt.plot(sol_euler.t, sol_euler.y[0, :], label='Euler')\n",
    "plt.plot(sol_slv.t, sol_slv.y[0, :], label='Solve IVP')\n",
    "plt.xlabel('Tiempo (s)')\n",
    "plt.ylabel('Respuesta del sistema')\n",
    "plt.title('Respuesta del sistema de primer orden')\n",
    "plt.legend()\n",
    "plt.grid()\n",
    "plt.show()"
   ]
  },
  {
   "cell_type": "code",
   "execution_count": null,
   "id": "624d30fd",
   "metadata": {},
   "outputs": [],
   "source": [
    "# Parámetros del sistema: CASO 2: Alta inercia y bajo amortiguamiento\n",
    "J = 1.0  # Inercia\n",
    "B = 0.1   # Amortiguamiento\n",
    "# Función de transferencia \n",
    "# usar tf de la librería de control\n",
    "\n",
    "# Polos del sistema\n",
    "# usar poles --> método del tipo tf\n",
    "\n",
    "# Valor de Tau"
   ]
  },
  {
   "cell_type": "code",
   "execution_count": null,
   "id": "a3529f75",
   "metadata": {},
   "outputs": [],
   "source": [
    "# Solución de la ecuación diferencial \n",
    "# Tiempo de simulación\n",
    "# Definir paso de integración y tiempo de simulación.\n",
    "h = \n",
    "tsimu =\n",
    "tspan = [0, tsimu]\n",
    "\n",
    "# Condición inicial\n",
    "x0 = 0\n",
    "\n",
    "# Solución de la ecuación diferencial utilizando euler\n",
    "# usar la función f_euler definida anteriormente\n",
    "# f_euler(f, tspan, x0, h)  \n",
    "# donde: f es la función que define la ecuación diferencial, \n",
    "#       tspan es el intervalo de tiempo,\n",
    "#       x0 es la condición inicial \n",
    "#       y h es el paso de integración.\n",
    "# Salida de la función: sol.t (tiempo) y sol.y (respuesta del sistema)\n",
    "\n",
    "\n",
    "\n",
    "# Solución con solve_ivp\n",
    "# usar solve_ivp de scipy.integrate\n",
    "# solve_ivp(f, tspan, x0)\n",
    "# solve_ivp(f,t_span,x0, method = 'RK45') # RK45 es el método por defecto, RK23, DOP853, Radau, BDF, LSODA\n",
    "#\n",
    "\n",
    "\n"
   ]
  },
  {
   "cell_type": "code",
   "execution_count": null,
   "id": "14d47ee8",
   "metadata": {},
   "outputs": [],
   "source": [
    "## Gráficas:"
   ]
  },
  {
   "cell_type": "markdown",
   "id": "4c2212d3",
   "metadata": {},
   "source": [
    "Sintonización de la Ganacia\n",
    "---------------------------------------\n",
    "La sintonización de la ganancia en un sistema de primer orden implica ajustar el valor de $K$ en la función de transferencia:\n",
    "$$G(s) = \\frac{K}{\\tau s + 1}$$\n",
    "Aumentar la ganancia $K$ generalmente mejora la rapidez de la respuesta del sistema, pero también puede llevar a una mayor oscilación o incluso inestabilidad si no se maneja adecuadamente. La sintonización adecuada de la ganancia es crucial para lograr un equilibrio entre la velocidad de respuesta y la estabilidad del sistema.\n",
    "\n",
    "Lugar de las raíces\n",
    "---------------------------------------\n",
    "El lugar de las raíces es una herramienta gráfica utilizada para analizar cómo varían los polos de un sistema de control en función de la ganancia $K$. En un sistema de primer orden, el polo se mueve a lo largo del eje real negativo a medida que se ajusta la ganancia. Esto permite a los ingenieros visualizar cómo los cambios en la ganancia afectan la estabilidad y el rendimiento del sistema.\n",
    "En Python, se puede utilizar la librería `control` para trazar el lugar de las raíces de un sistema de primer orden. Aquí hay un ejemplo de cómo hacerlo:\n",
    "\n",
    "```python\n",
    "import control as ct\n",
    "import matplotlib.pyplot as plt\n",
    "\n",
    "# Parámetros del sistema\n",
    "K = 1.0  # Ganancia\n",
    "tau = 0.1  # Constante de tiempo\n",
    "\n",
    "# Función de transferencia\n",
    "G = ct.tf([K], [tau, 1])\n",
    "\n",
    "# Lugar de las raíces\n",
    "rlist = ct.root_locus(G, Plot=True)"
   ]
  },
  {
   "cell_type": "code",
   "execution_count": null,
   "id": "382e7a30",
   "metadata": {},
   "outputs": [],
   "source": [
    "# Parámetros del sistema\n",
    "import control as ct\n",
    "import numpy as np\n",
    "import matplotlib.pyplot as plt\n",
    "\n",
    "\n",
    "# Lugar de las raíces\n",
    "respuesta = ct.root_locus_map(G) # G es la función de transferencia de lazo abierto\n",
    "plt.figure()\n",
    "respuesta.plot()\n",
    "\n",
    "# Tabla de valores de ganancia y raíces\n",
    "import pandas as pd\n",
    "tabla = pd.DataFrame({\n",
    "    'Ganancia K': respuesta.gains,\n",
    "    'Raíces': [list(raices) for raices in respuesta.loci]\n",
    "})\n",
    "print(tabla)\n"
   ]
  },
  {
   "cell_type": "code",
   "execution_count": null,
   "id": "11d9aabd",
   "metadata": {},
   "outputs": [],
   "source": [
    "# Respuesta al escalón de lazo cerrado con diferentes ganancias\n",
    "# step_response\n",
    "\n",
    "K = [0.5,1,10,100]  # Ganancia\n",
    "plt.figure()\n",
    "for k in K:\n",
    "    T = ct.feedback(k*G, 1) # Lazo cerrado\n",
    "    t, y = ct.step_response(T)\n",
    "    plt.plot(t, y, label=f'K={k}')\n",
    "plt.title('Respuesta al escalón de lazo cerrado')\n",
    "plt.xlabel('Tiempo (s)')\n",
    "plt.ylabel('Amplitud')\n",
    "plt.grid()\n",
    "plt.legend()"
   ]
  },
  {
   "cell_type": "code",
   "execution_count": null,
   "id": "485bf967",
   "metadata": {},
   "outputs": [],
   "source": [
    "# Respuesta al impulso\n",
    "# impulse_response\n",
    "K = [0.5,1,10,100]  # Ganancia\n",
    "plt.figure()\n",
    "for k in K:\n",
    "    T = ct.feedback(k*G, 1)\n",
    "    t, y = ct.impulse_response(T)\n",
    "    plt.plot(t, y, label=f'K={k}')\n",
    "plt.title('Respuesta al impulso de lazo cerrado')\n",
    "plt.xlabel('Tiempo (s)')\n",
    "plt.ylabel('Amplitud')\n",
    "plt.grid()\n",
    "plt.legend()"
   ]
  },
  {
   "cell_type": "code",
   "execution_count": null,
   "id": "d95cb363",
   "metadata": {},
   "outputs": [],
   "source": [
    "# respuesta a la rampa\n",
    "K = [0.5,1,10,100]  # Ganancia\n",
    "t = np.linspace(0,0.5,500)\n",
    "rampa = t  # Señal de rampa\n",
    "plt.figure()\n",
    "for k in K:\n",
    "    T = ct.feedback(k*G, 1)\n",
    "    t, y = ct.forced_response(T, t, rampa)\n",
    "    plt.plot(t, y, label=f'K={k}')\n",
    "plt.title('Respuesta a la rampa de lazo cerrado')\n",
    "plt.xlabel('Tiempo (s)')\n",
    "plt.ylabel('Amplitud')\n",
    "plt.grid()\n",
    "plt.legend()"
   ]
  },
  {
   "cell_type": "markdown",
   "id": "e49a9d29",
   "metadata": {},
   "source": [
    "Características de la Respuesta en el Tiempo\n",
    "---------------------------------------\n",
    "La respuesta en el tiempo de un sistema de primer orden a una entrada escalón se caracteriza por:\n",
    "1. **Tiempo de establecimiento**: El tiempo que tarda la respuesta en alcanzar y permanecer dentro de un cierto porcentaje del valor final (usualmente 2% o 5%).\n",
    "2. **Sobrepaso**: En sistemas de primer orden, el sobrepaso es generalmente cero, ya que la respuesta no oscila.\n",
    "3. **Velocidad de respuesta**: Determinada por la constante de tiempo $\\tau$, donde un valor más pequeño de $\\tau$ indica una respuesta más rápida.\n",
    "4. **Valor final**: La respuesta se aproxima al valor final determinado generalmente por la ganancia $K$.\n",
    "Estos aspectos son fundamentales para evaluar el rendimiento de un sistema de primer orden en aplicaciones prácticas.\n"
   ]
  },
  {
   "cell_type": "code",
   "execution_count": null,
   "id": "7dccc42b",
   "metadata": {},
   "outputs": [],
   "source": [
    "# step_info\n",
    "info = ct.step_info(T)\n",
    "print(\"Información de la respuesta al escalón:\")\n",
    "for key, value in info.items():\n",
    "    print(f\"  {key}: {value}\")#"
   ]
  },
  {
   "cell_type": "markdown",
   "id": "3d3279c6",
   "metadata": {},
   "source": [
    "Características de la respuesta estacionaria\n",
    "---------------------------------------\n",
    "La respuesta estacionaria de un sistema de primer orden se refiere al comportamiento del sistema una vez que ha alcanzado un estado estable después de una perturbación o entrada. Las características clave de la respuesta estacionaria incluyen:\n",
    "1. **Valor final**: En un sistema de primer orden, el valor final de la respuesta a una entrada escalón es igual a la ganancia del sistema $K$.\n",
    "2. **Error en estado estacionario**: Para una entrada escalón, el error en estado estacionario es cero, ya que el sistema alcanza el valor final sin desviaciones.\n",
    "* **Constante de error estática de posición**\n",
    "$$\n",
    "    K_p = \\lim_{s \\to 0} G(s)\n",
    "$$\n",
    "Y el error en estado estacionario para una entrada escalón es:\n",
    "$$\n",
    "    e_{ss} = \\frac{1}{1 + K_p}\n",
    "$$\n",
    "    \n",
    "* **Constante de estática de velocidad**\n",
    "$$\n",
    "    K_v = \\lim_{s \\to 0} sG(s)\n",
    "$$\n",
    "Y el error en estado estacionario para una entrada rampa es:\n",
    "$$\n",
    "    e_{ss} = \\frac{1}{K_v}\n",
    "$$\n",
    "\n",
    "* **Constante de estática de aceleración**\n",
    "$$\n",
    "    K_a = \\lim_{s \\to 0} s^2G(s)\n",
    "$$\n",
    "Y el error en estado estacionario para una entrada parabólica es:\n",
    "$$\n",
    "    e_{ss} = \\frac{1}{K_a}\n",
    "$$\n",
    "**Recuerde, que estas características aplican específicamente para sistemas con retroalimentación unitaria.**"
   ]
  },
  {
   "cell_type": "code",
   "execution_count": null,
   "id": "0672854a",
   "metadata": {},
   "outputs": [],
   "source": [
    "# Uso del la librería de simbólico para resolver constantes de error estático\n",
    "from sympy import symbols, limit, simplify\n",
    "# Definir la función de transferencia simbólica\n",
    "\n",
    "# Calcular las constantes de error estático:\n",
    "K_p = \n",
    "K_v = \n",
    "K_a = "
   ]
  }
 ],
 "metadata": {
  "kernelspec": {
   "display_name": "base",
   "language": "python",
   "name": "python3"
  },
  "language_info": {
   "codemirror_mode": {
    "name": "ipython",
    "version": 3
   },
   "file_extension": ".py",
   "mimetype": "text/x-python",
   "name": "python",
   "nbconvert_exporter": "python",
   "pygments_lexer": "ipython3",
   "version": "3.13.5"
  }
 },
 "nbformat": 4,
 "nbformat_minor": 5
}
