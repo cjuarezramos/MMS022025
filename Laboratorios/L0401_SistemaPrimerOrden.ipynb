{
 "cells": [
  {
   "cell_type": "markdown",
   "id": "33a7202e",
   "metadata": {},
   "source": [
    "Características de Sistemas de Primer Orden\n",
    "=================================\n",
    "Los sistemas de primer orden son aquellos que pueden describirse mediante una ecuación diferencial de primer orden. Estos sistemas tienen varias características distintivas:\n",
    "1. **Respuesta Exponencial**: La respuesta de un sistema de primer orden a una entrada escalón es típicamente una función exponencial que se aproxima a un valor final con el tiempo.\n",
    "2. **Constante de Tiempo (τ)**: La constante de tiempo es un parámetro clave que determina la velocidad de respuesta del sistema. Un valor más pequeño de τ indica una respuesta más rápida.\n",
    "3. **Estabilidad**: Los sistemas de primer orden son inherentemente estables si la constante de tiempo es positiva.\n",
    "4. **Función de Transferencia**: La función de transferencia de un sistema de primer orden generalmente tiene la forma $\\frac{K}{\\tau s + 1}$, donde K es la ganancia del sistema.\n",
    "5. **Simplicidad**: Los sistemas de primer orden son más simples de analizar y diseñar en comparación con sistemas de orden superior, lo que los hace ideales para aplicaciones básicas de control y modelado.\n",
    "Estos aspectos hacen que los sistemas de primer orden sean fundamentales en el estudio de la teoría de control y en diversas aplicaciones de ingeniería."
   ]
  },
  {
   "cell_type": "markdown",
   "id": "857a8bc4",
   "metadata": {
    "vscode": {
     "languageId": "plaintext"
    }
   },
   "source": [
    "Polos y ceros de la Función de Transferencia\n",
    "---------------------------------------\n",
    "En un sistema de primer orden, la función de transferencia típicamente tiene la forma:\n",
    "$$G(s) = \\frac{K}{\\tau s + 1}$$\n",
    "Donde:\n",
    "- $K$ es la ganancia del sistema.\n",
    "- $\\tau$ es la constante de tiempo del sistema.\n",
    "El polo de la función de transferencia se encuentra en:\n",
    "$$s = -\\frac{1}{\\tau}$$\n",
    "No hay ceros en un sistema de primer orden típico. La ubicación del polo en el semiplano izquierdo indica que el sistema es estable.\n"
   ]
  }
 ],
 "metadata": {
  "language_info": {
   "name": "python"
  }
 },
 "nbformat": 4,
 "nbformat_minor": 5
}
