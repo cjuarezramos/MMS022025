{
 "cells": [
  {
   "cell_type": "markdown",
   "id": "70a5b70f-eacd-4fa6-9ac7-6c2b68fef324",
   "metadata": {},
   "source": [
    "# Estructuras de control de flujo  \n",
    "Las estructuras de control de flujo permiten modificar el flujo de ejecución de un programa.  \n",
    "Las más conocidas son:  \n",
    "- Estructuras condicionales (if, else)\n",
    "- Estructuras repetitivas (for, while)\n"
   ]
  },
  {
   "cell_type": "markdown",
   "id": "70905ff8",
   "metadata": {},
   "source": [
    "# Estructuras condicionales\n",
    "Las estructuras condicionales permiten tomar decisiones en función de condiciones específicas.  \n",
    "Las más comunes son:  \n",
    "- if\n",
    "- else"
   ]
  },
  {
   "cell_type": "code",
   "execution_count": null,
   "id": "ae55be9e",
   "metadata": {},
   "outputs": [],
   "source": [
    "# Haga un programa para determinar si un número es negativo\n"
   ]
  },
  {
   "cell_type": "code",
   "execution_count": null,
   "id": "716684e5",
   "metadata": {},
   "outputs": [],
   "source": [
    "# Haga un programa para determinar si un número es par o impar"
   ]
  },
  {
   "cell_type": "code",
   "execution_count": null,
   "id": "c0d66786",
   "metadata": {},
   "outputs": [],
   "source": [
    "# Haga un programa que solicite al usuario 3 números enteros y determine cuál es el mayor."
   ]
  },
  {
   "cell_type": "markdown",
   "id": "7f295317-7830-4005-a7f0-9f809a811937",
   "metadata": {},
   "source": [
    "# Estructuras de repetición\n",
    "Las estructuras de repetición permiten ejecutar un bloque de código varias veces.  \n",
    "Las más comunes son:  \n",
    "- for\n",
    "- while"
   ]
  },
  {
   "cell_type": "markdown",
   "id": "5f34c950",
   "metadata": {},
   "source": [
    "# Lazo for\n",
    "El lazo for se utiliza para iterar sobre una secuencia (como una lista o un rango) y ejecutar un bloque de código varias veces.  \n",
    "Su sintaxis básica es:  \n",
    "```python\n",
    "for variable in secuencia:\n",
    "    # Bloque de código"
   ]
  },
  {
   "cell_type": "code",
   "execution_count": null,
   "id": "cf543806-a8b5-4d8f-b712-3d8ae91cd258",
   "metadata": {},
   "outputs": [],
   "source": [
    "# Ejemplo de uso del lazo for usando una lista como secuencia\n",
    "palabras = ['gato', 'perro', 'roedor']\n",
    "for p in palabras:\n",
    "    print(p, len(p))\n",
    "    "
   ]
  },
  {
   "cell_type": "code",
   "execution_count": null,
   "id": "7bd2f8f1-9934-43ab-a4ae-16d141d96578",
   "metadata": {},
   "outputs": [],
   "source": [
    "# ejemplo de uso del lazo for usando range como contador\n",
    "for i in range(5):\n",
    "    print(i)\n",
    "    "
   ]
  },
  {
   "cell_type": "code",
   "execution_count": null,
   "id": "a311dd40-bc3a-4e45-a9c3-5fe1583ee137",
   "metadata": {},
   "outputs": [],
   "source": [
    "range(5)"
   ]
  },
  {
   "cell_type": "code",
   "execution_count": null,
   "id": "1b608245-b6ac-43c2-ab2b-f8501dc07ab8",
   "metadata": {},
   "outputs": [],
   "source": [
    "# Creación de lista usando range\n",
    "n = list(range(0,10))\n",
    "print(n)"
   ]
  },
  {
   "cell_type": "code",
   "execution_count": null,
   "id": "68bb1bb5-5a69-4ab5-b6b9-205c4ac1f1fe",
   "metadata": {},
   "outputs": [],
   "source": [
    "t = list(range(1,10,2))\n",
    "print(t)"
   ]
  },
  {
   "cell_type": "code",
   "execution_count": null,
   "id": "9e121033-5f69-4f94-992b-9df843aa8197",
   "metadata": {},
   "outputs": [],
   "source": [
    "sum(t)"
   ]
  },
  {
   "cell_type": "code",
   "execution_count": null,
   "id": "b310efe2-4f21-4524-abb7-7010ff1fb6a1",
   "metadata": {},
   "outputs": [],
   "source": [
    "# Haga un programa para almacenar 10 números enteros en una lista y luego imprimirlos.\n"
   ]
  },
  {
   "cell_type": "code",
   "execution_count": null,
   "id": "1b2b3808",
   "metadata": {},
   "outputs": [],
   "source": [
    "# Haga un programa que solicite las notas de MMS y almacene los valores en una lista\n",
    "# Utilice la lista:\n",
    "# Evaluaciones = [PrimerParcial, SegundoParcial, Proyecto,Laboratorios,Exposiciones]"
   ]
  },
  {
   "cell_type": "markdown",
   "id": "2e7d7752-2d2c-4ae0-a51c-8227cf7f4f50",
   "metadata": {},
   "source": [
    "# Lazo while  \n",
    "Lazo while es una estructura de control que permite repetir un bloque de código mientras se cumpla una condición.  \n",
    "Su sintaxis básica es:  \n",
    "```python\n",
    "while condición:\n",
    "    # Bloque de código"
   ]
  },
  {
   "cell_type": "code",
   "execution_count": null,
   "id": "733996c7-aa42-44fa-b139-eff5842afd22",
   "metadata": {},
   "outputs": [],
   "source": [
    "# Serie de Fibonaci\n",
    "a, b = 0, 1\n",
    "while a < 10:\n",
    "    print(a)\n",
    "    a, b = b, a+b\n"
   ]
  },
  {
   "cell_type": "code",
   "execution_count": null,
   "id": "f900cda6-b0d6-4158-bf40-398745330bf6",
   "metadata": {},
   "outputs": [],
   "source": [
    "# Serie de Fibonaci\n",
    "a, b = 0, 1\n",
    "while a < 10:\n",
    "    print(a)\n",
    "    a, b = b, a+b\n",
    "else:\n",
    "    print('Fin de la serie')"
   ]
  },
  {
   "cell_type": "code",
   "execution_count": null,
   "id": "6a9f0270-30cb-471d-8ddb-37dc4f84d188",
   "metadata": {},
   "outputs": [],
   "source": [
    "palabras = ['gato', 'perro', 'roedor']\n",
    "for i in range(len(palabras)):\n",
    "    print(i,palabras[i])\n",
    "else:\n",
    "    print('fin del for')"
   ]
  },
  {
   "cell_type": "code",
   "execution_count": null,
   "id": "73a96f51-25f3-4881-b0b2-1c4fe101ff74",
   "metadata": {},
   "outputs": [],
   "source": [
    "# Uso de break\n",
    "for n in range(2, 10):\n",
    "    for x in range(2, n):\n",
    "        if n % x == 0:\n",
    "            print(n, 'igual', x, '*', n//x)\n",
    "            break # finaliza la iteración\n",
    "    else:\n",
    "        # loop fell through without finding a factor\n",
    "        print(n, 'es número primo')"
   ]
  },
  {
   "cell_type": "code",
   "execution_count": null,
   "id": "da23122f-2348-49a5-9a08-46c986e1e32d",
   "metadata": {},
   "outputs": [],
   "source": [
    "# Uso de continue\n",
    "for num in range(2, 10):\n",
    "    if num % 2 == 0:\n",
    "        print(\"El número es par\", num)\n",
    "        continue\n",
    "    print(\"El número es impar\", num)"
   ]
  },
  {
   "cell_type": "markdown",
   "id": "1d728a9a-58ab-496d-9d4e-4e87c84ff99b",
   "metadata": {},
   "source": [
    "# Funciones  \n",
    "Una función en Python se utiliza para encapsular un bloque de código que realiza una tarea específica.   \n",
    "La estructura básica de una función es la siguiente:  \n",
    "```python\n",
    "def nombre_funcion(parametros):\n",
    "    # Bloque de código\n",
    "    return resultado"
   ]
  },
  {
   "cell_type": "code",
   "execution_count": 19,
   "id": "6b73bdaf-0af1-43af-9e95-d5269a6aa263",
   "metadata": {},
   "outputs": [],
   "source": [
    "def fib(n):    # escribe la serie de Fibonacci hasta el número n\n",
    "    \"\"\"Imprime la serie de fibonnaci.\"\"\"\n",
    "    a, b = 0, 1\n",
    "    while a < n:\n",
    "        print(a, end=' ') # end=' ' elimina salto de línea\n",
    "        a, b = b, a+b\n",
    "    print()"
   ]
  },
  {
   "cell_type": "code",
   "execution_count": 20,
   "id": "b02c513e-cfb0-4a0d-90bd-63b191ed2604",
   "metadata": {},
   "outputs": [
    {
     "name": "stdout",
     "output_type": "stream",
     "text": [
      "0 1 1 2 3 5 8 13 21 34 55 89 144 233 377 610 987 1597 \n"
     ]
    }
   ],
   "source": [
    "# Llamemos a la función\n",
    "fib(2000)"
   ]
  },
  {
   "cell_type": "code",
   "execution_count": null,
   "id": "62a6b6e4-68d8-4856-a838-f65e518be340",
   "metadata": {},
   "outputs": [],
   "source": [
    "# Haga una función para obtener las raices de una ecuación de segundo orden"
   ]
  }
 ],
 "metadata": {
  "kernelspec": {
   "display_name": "base",
   "language": "python",
   "name": "python3"
  },
  "language_info": {
   "codemirror_mode": {
    "name": "ipython",
    "version": 3
   },
   "file_extension": ".py",
   "mimetype": "text/x-python",
   "name": "python",
   "nbconvert_exporter": "python",
   "pygments_lexer": "ipython3",
   "version": "3.12.3"
  }
 },
 "nbformat": 4,
 "nbformat_minor": 5
}
