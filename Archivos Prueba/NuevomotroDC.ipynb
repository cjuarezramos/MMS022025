{
 "cells": [
  {
   "cell_type": "code",
   "execution_count": null,
   "id": "e1be652e",
   "metadata": {},
   "outputs": [],
   "source": [
    "Generando nuevo código de motor DC"
   ]
  }
 ],
 "metadata": {
  "language_info": {
   "name": "python"
  }
 },
 "nbformat": 4,
 "nbformat_minor": 5
}
